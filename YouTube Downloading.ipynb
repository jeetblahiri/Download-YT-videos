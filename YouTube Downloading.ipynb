{
 "cells": [
  {
   "cell_type": "markdown",
   "id": "757953ae",
   "metadata": {},
   "source": [
    "## Fetching description of any video"
   ]
  },
  {
   "cell_type": "code",
   "execution_count": 1,
   "id": "15d021b6",
   "metadata": {},
   "outputs": [
    {
     "name": "stdout",
     "output_type": "stream",
     "text": [
      "Title:  Shiva Tandava Stotram- a Tabla rendition\n",
      "Length:  121\n",
      "Views:  334\n",
      "Rating:  None\n"
     ]
    }
   ],
   "source": [
    "#Import the pytube module (which is not inbuilt). Details are given in Readme.md file\n",
    "from pytube import YouTube\n",
    "\n",
    "#defining a function describing video attributes\n",
    "def info(k):\n",
    "    print(\"Title: \",k.title) #fetching the title of the video\n",
    "    print(\"Length: \", k.length) #fetching the length of the video (in seconds)\n",
    "    print(\"Views: \", k.views) #fetching how many views it has as of now\n",
    "    print(\"Rating: \", k.rating) #fetching the overall user rating\n",
    "\n",
    "url = \"https://www.youtube.com/watch?v=Tb6iTAF1U7M\" #Taking the URL of one of my favourite videos ;-P\n",
    "\n",
    "k = YouTube(url) #creating the object for function\n",
    "\n",
    "#calling function\n",
    "info(k)"
   ]
  },
  {
   "cell_type": "markdown",
   "id": "a2ec837e",
   "metadata": {},
   "source": [
    "## Downloading a YouTube video (Only for fun)"
   ]
  },
  {
   "cell_type": "code",
   "execution_count": null,
   "id": "d1b3a6e7",
   "metadata": {},
   "outputs": [],
   "source": [
    "#Import the pytube module (which is not inbuilt). Details are given in Readme.md file\n",
    "from pytube import YouTube\n",
    "\n",
    "#Defining the download function\n",
    "def download(k):\n",
    "    stream = k.streams.filter(file_extension='mp4', only_video = True) #filtering mp4 stremas\n",
    "    #Creating a loop to choose from various resolutions available and the corresponding tags\n",
    "    for s in stream:\n",
    "        print(f\"Video tag : {s.itag} Resolution : {s.resolution}\")\n",
    "        \n",
    "    #Taking the requisite resolution from the user\n",
    "    tag = input(\"Enter tag to be downloaded: \")\n",
    "    vid = k.streams.get_by_itag(tag) \n",
    "    vid.download() #Downloading the video\n",
    "    print(k.title+\" is downloading...\") #Putting a satisfying text ;-P\n",
    "    \n",
    "url = \"https://www.youtube.com/watch?v=Tb6iTAF1U7M\" #You can give any valid YouTube URL\n",
    "k = YouTube(url) #Creating object\n",
    "download(k) #Calling the function, tantanaa    "
   ]
  },
  {
   "cell_type": "code",
   "execution_count": null,
   "id": "1f76dbe1",
   "metadata": {},
   "outputs": [],
   "source": []
  }
 ],
 "metadata": {
  "kernelspec": {
   "display_name": "Python 3 (ipykernel)",
   "language": "python",
   "name": "python3"
  },
  "language_info": {
   "codemirror_mode": {
    "name": "ipython",
    "version": 3
   },
   "file_extension": ".py",
   "mimetype": "text/x-python",
   "name": "python",
   "nbconvert_exporter": "python",
   "pygments_lexer": "ipython3",
   "version": "3.9.7"
  }
 },
 "nbformat": 4,
 "nbformat_minor": 5
}
